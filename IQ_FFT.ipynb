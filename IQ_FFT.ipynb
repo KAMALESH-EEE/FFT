{
  "nbformat": 4,
  "nbformat_minor": 0,
  "metadata": {
    "colab": {
      "private_outputs": true,
      "provenance": [],
      "authorship_tag": "ABX9TyP2tlcT5NfXUFiV5sgs1des",
      "include_colab_link": true
    },
    "kernelspec": {
      "name": "python3",
      "display_name": "Python 3"
    },
    "language_info": {
      "name": "python"
    }
  },
  "cells": [
    {
      "cell_type": "markdown",
      "metadata": {
        "id": "view-in-github",
        "colab_type": "text"
      },
      "source": [
        "<a href=\"https://colab.research.google.com/github/KAMALESH-EEE/FFT/blob/main/IQ_FFT.ipynb\" target=\"_parent\"><img src=\"https://colab.research.google.com/assets/colab-badge.svg\" alt=\"Open In Colab\"/></a>"
      ]
    },
    {
      "cell_type": "code",
      "source": [
        "from google.colab import files\n",
        "\n",
        "# Upload file from your local system\n",
        "uploaded = files.upload()"
      ],
      "metadata": {
        "id": "tASsjh3dJIjW"
      },
      "execution_count": null,
      "outputs": []
    },
    {
      "cell_type": "code",
      "execution_count": null,
      "metadata": {
        "id": "7Yd_gQI68VYw"
      },
      "outputs": [],
      "source": [
        "\n",
        "\n",
        "import pandas as pd\n",
        "import numpy as np\n",
        "import matplotlib.pyplot as plt\n",
        "\n",
        "# Load your actual I/Q data from CSV\n",
        "df = pd.read_csv('your_iq_data.csv')  # Replace with your filename\n",
        "\n",
        "# Extract I and Q columns\n",
        "I = df['I'].values\n",
        "Q = df['Q'].values\n",
        "\n",
        "# Form complex signal\n",
        "IQ = I + 1j * Q\n",
        "\n",
        "# Sampling rate (Hz) — you MUST set this to your ADC's sampling rate\n",
        "Fs = 1e6  # Example: 1 MHz\n",
        "\n",
        "# Perform FFT\n",
        "N = len(IQ)\n",
        "IQ_fft = np.fft.fftshift(np.fft.fft(IQ, n=N))  # Shift zero freq to center\n",
        "f = np.fft.fftshift(np.fft.fftfreq(N, d=1/Fs))  # Frequency axis\n",
        "\n",
        "# Magnitude in dB\n",
        "magnitude_dB = 20 * np.log10(np.abs(IQ_fft) + 1e-12)  # add small value to avoid log(0)\n",
        "\n",
        "# Plot\n",
        "plt.figure(figsize=(10, 5))\n",
        "plt.plot(f / 1e6, magnitude_dB)  # Frequency in MHz\n",
        "plt.title('FFT Spectrum of I/Q Signal')\n",
        "plt.xlabel('Frequency (MHz)')\n",
        "plt.ylabel('Magnitude (dB)')\n",
        "plt.grid(True)\n",
        "plt.tight_layout()\n",
        "plt.show()\n"
      ]
    }
  ]
}